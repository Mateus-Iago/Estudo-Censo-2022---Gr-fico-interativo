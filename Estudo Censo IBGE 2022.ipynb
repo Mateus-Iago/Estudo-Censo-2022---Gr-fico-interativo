{
 "cells": [
  {
   "cell_type": "markdown",
   "id": "e11aef39-77ab-4cf8-9162-ad9675ca036b",
   "metadata": {
    "jp-MarkdownHeadingCollapsed": true
   },
   "source": [
    "# IMPORTAÇÕES TRATAMENTO"
   ]
  },
  {
   "cell_type": "code",
   "execution_count": null,
   "id": "d19ec055-0027-498f-afae-c6b652d1ac9c",
   "metadata": {},
   "outputs": [],
   "source": [
    "import pandas as pd\n",
    "import sidrapy"
   ]
  },
  {
   "cell_type": "markdown",
   "id": "c2430dfe-5d78-40d9-855c-06fc893cd031",
   "metadata": {
    "jp-MarkdownHeadingCollapsed": true
   },
   "source": [
    "# OBTENDO TABELA SIDRAPY"
   ]
  },
  {
   "cell_type": "code",
   "execution_count": null,
   "id": "3f0d9ca7-5af3-4629-bc65-dc878d1e570b",
   "metadata": {},
   "outputs": [],
   "source": [
    "pop = sidrapy.get_table(\n",
    "    table_code='4709',               # t (table_code) - é o codigo da tabela no site da sidra IBGE;\n",
    "    territorial_level='6',           # n (territorial_level) - especifica os niveis territoriais;\n",
    "    ibge_territorial_code='all',     # n/ (ibge_territorial_code) - inserido dentro do nivel territorial, especificar o codigo territorial do IBGE;\n",
    "    period='all',                    # p (period) - utilizado para especificar o periodo;\n",
    "    variable='all',                  # v (variable) - para especificar as variaveis desejadas;\n",
    ")\n",
    "\n",
    "print(pop.shape)\n",
    "pop.head()"
   ]
  },
  {
   "cell_type": "markdown",
   "id": "08f7cf82-e1d9-489a-a313-aee8531bc43d",
   "metadata": {
    "jp-MarkdownHeadingCollapsed": true
   },
   "source": [
    "# TRATAMENTO"
   ]
  },
  {
   "cell_type": "code",
   "execution_count": null,
   "id": "9e8d3b74-9670-49e7-a9e6-46fc4fbf8f8b",
   "metadata": {},
   "outputs": [],
   "source": [
    "# Removendo acentos para facilitar o estudo\n",
    "pop = pop.apply(lambda x: x.str.normalize('NFKD').str.encode('ascii', errors='ignore').str.decode('utf-8') if x.dtype == 'object' else x) # EsSa função é aplicada em todas as linhas do tipo object do data frame\n",
    "# Removendo primeira linha\n",
    "pop = pop.iloc[1:] # removemos a linha com indice zero que não é uma legenda dos dados\n",
    "\n",
    "pop.head()"
   ]
  },
  {
   "cell_type": "code",
   "execution_count": null,
   "id": "f9618685-3192-4468-9658-b950edf786dd",
   "metadata": {},
   "outputs": [],
   "source": [
    "# Converta a coluna 'V' para numérico, forçando erros a serem convertidos para NaN\n",
    "pop['V'] = pd.to_numeric(pop['V'], errors='coerce')"
   ]
  },
  {
   "cell_type": "code",
   "execution_count": null,
   "id": "1bce4565-cdff-4045-b008-6ba32c285503",
   "metadata": {},
   "outputs": [],
   "source": [
    "# Pivotando tabela\n",
    "pop = pop.pivot_table(index=['D1C', 'D1N'], columns ='D3N', values = 'V').reset_index()\n",
    "pop.columns.name = None\n",
    "\n",
    "print(pop.shape)\n",
    "pop.head()"
   ]
  },
  {
   "cell_type": "code",
   "execution_count": null,
   "id": "7f2ad1c5-5260-4c57-9d0c-c833a4fe320f",
   "metadata": {},
   "outputs": [],
   "source": [
    "# Dicionário para mapeamento das colunas\n",
    "column_mapping = {\n",
    "    'D1C': 'CD_MUN',\n",
    "    'D1N': 'NM_MUN',\n",
    "    'Populacao residente': 'POP_RESIDENTE',\n",
    "    'Variacao absoluta da populacao residente 2010 compatibilizada': 'VAR_ABS',\n",
    "    'Taxa de crescimento geometrico': 'TX_CRESC'\n",
    "}\n",
    "\n",
    "# Renomeando as colunas\n",
    "pop.rename(columns = column_mapping, inplace=True)\n",
    "pop.head()"
   ]
  },
  {
   "cell_type": "code",
   "execution_count": null,
   "id": "efae77b5-1de2-40da-aabf-8d640339c748",
   "metadata": {},
   "outputs": [],
   "source": [
    "# Checando se as os data types estão corretos\n",
    "pop.info() "
   ]
  },
  {
   "cell_type": "code",
   "execution_count": null,
   "id": "f7a948bf-0085-426b-9c66-61034f06eaf0",
   "metadata": {},
   "outputs": [],
   "source": [
    "# Tratando os tipos das colunas, devemos deixar a tx_cresc como float, pop_residente, cd_mun e var_abs como inteiro\n",
    "pop[['CD_MUN','POP_RESIDENTE','VAR_ABS']] = pop[['CD_MUN','POP_RESIDENTE','VAR_ABS']].astype(int)\n",
    "pop['TX_CRESC'] = pop['TX_CRESC'].astype(float)\n",
    "\n",
    "pop.head()"
   ]
  },
  {
   "cell_type": "code",
   "execution_count": null,
   "id": "c08ef197-e669-443f-913e-e6ac4492fc52",
   "metadata": {},
   "outputs": [],
   "source": [
    "# Checando se as os data types estão corretos\n",
    "pop.info() "
   ]
  },
  {
   "cell_type": "markdown",
   "id": "17489f1a-f9ee-44e4-9828-537e66f1f55b",
   "metadata": {},
   "source": [
    "# IMPORTAÇÕES VISUALIZAÇÃO"
   ]
  },
  {
   "cell_type": "code",
   "execution_count": null,
   "id": "1c156e4d-4599-4699-bb38-22f09dd87ef6",
   "metadata": {},
   "outputs": [],
   "source": [
    "import matplotlib.pyplot as plt\n",
    "import plotly.express as px\n",
    "import wget\n",
    "import json\n",
    "from urllib.request import urlopen"
   ]
  },
  {
   "cell_type": "code",
   "execution_count": null,
   "id": "1d5c3bdb-492a-41ea-8431-dd064942cba8",
   "metadata": {},
   "outputs": [],
   "source": [
    "# Lendo o arquivo JSON com a delimitação de cada municipio para o plot do gráfico\n",
    "\n",
    "with urlopen('https://raw.githubusercontent.com/fea-dev-usp/IBGE/master/geojson_2022.json') as response:\n",
    "    geo_json = json.load(response)"
   ]
  },
  {
   "cell_type": "code",
   "execution_count": null,
   "id": "0c8b0636-dd47-440e-99c9-94e9ccf29a1c",
   "metadata": {},
   "outputs": [],
   "source": [
    "# Plotanto o mapa\n",
    "\n",
    "fig = px.choropleth_mapbox(\n",
    "    data_frame = pop,\n",
    "    geojson = geo_json,\n",
    "    locations = 'CD_MUN',\n",
    "    featureidkey = 'properties.codarea',\n",
    "    color = 'TX_CRESC',\n",
    "    color_continuous_scale = 'thermal',\n",
    "    range_color = (pop['TX_CRESC'].min(),pop['TX_CRESC'].max()),\n",
    "    mapbox_style = 'open-street-map',\n",
    "    zoom = 3.5,\n",
    "    center = {\"lat\": -15.81, \"lon\": -47.93},\n",
    "    opacity = 1,\n",
    "    labels = {'TX_CRESC': 'Tx Cresc Geométrico (%)', 'CD_MUN': 'Código do município'},\n",
    "    width = 1200,\n",
    "    height = 800,\n",
    "    title = 'Variação Pop Censo 2022',\n",
    "    hover_name = 'NM_MUN'\n",
    ")\n",
    "\n",
    "# Customizando o layout\n",
    "fig.update_layout(\n",
    "    margin={'r': 0, 't': 1, 'l': 0, 'b': 1},\n",
    "    coloraxis_colorbar={\n",
    "        'title': {\n",
    "            'text': 'Taxa de Crescimento (%)',\n",
    "            'side': 'right'\n",
    "        }\n",
    "    },\n",
    "    showlegend=True,  # Garante que a legenda seja exibida\n",
    "    legend=dict(\n",
    "        x=1,  # Posição horizontal (0-1)\n",
    "        y=1,  # Posição vertical (0-1)\n",
    "        traceorder='normal',\n",
    "        orientation='v'  # Vertical ou horizontal\n",
    "    )\n",
    ")\n",
    "\n",
    "# Atualizando as configurações geográficas\n",
    "fig.update_geos(\n",
    "    showcoastlines=False,\n",
    "    visible=False\n",
    ")\n",
    "\n",
    "# Atualizando as configurações de traços\n",
    "fig.update_traces(\n",
    "    marker_line_width=0.05,\n",
    "    selector=dict(type='choroplethmapbox')\n",
    ")\n",
    "\n",
    "# Exibindo o gráfico\n",
    "fig.show()"
   ]
  },
  {
   "cell_type": "code",
   "execution_count": null,
   "id": "9cedaa7f-1b09-4365-97ba-68bb178756f4",
   "metadata": {},
   "outputs": [],
   "source": []
  }
 ],
 "metadata": {
  "kernelspec": {
   "display_name": "Python 3 (ipykernel)",
   "language": "python",
   "name": "python3"
  },
  "language_info": {
   "codemirror_mode": {
    "name": "ipython",
    "version": 3
   },
   "file_extension": ".py",
   "mimetype": "text/x-python",
   "name": "python",
   "nbconvert_exporter": "python",
   "pygments_lexer": "ipython3",
   "version": "3.11.7"
  }
 },
 "nbformat": 4,
 "nbformat_minor": 5
}
